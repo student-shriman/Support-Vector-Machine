{
 "cells": [
  {
   "cell_type": "markdown",
   "metadata": {},
   "source": [
    "#  Support vector Machine"
   ]
  },
  {
   "cell_type": "code",
   "execution_count": null,
   "metadata": {},
   "outputs": [],
   "source": [
    "     ############   #############   Introduction to Support Vector Machine   ##############   #############\n",
    "\n",
    " =>  Support Vector Machine is a Supervised Machine Learning algorithm widely used for solving different \n",
    "       Machine learning problems. \n",
    "     \n",
    " =>  SVM tries to divide the data using hyperplanes and then makes the predictions. \n",
    "    \n",
    " =>  SVM is a non-probabilistic Linear classifier because it classifies the datapoint classes without using any \n",
    "        Probability calculation. While other classifiers, when classifying, They predict the probability of \n",
    "      a data point and says which class or group it belongs to.\n",
    "        \n",
    " =>  Here in case of SVM, We draws a Best-fitted Line through the datapoints, known as Hyperplane and then,\n",
    "      We draw two more lines parallel to this Hyperplane which passes through one near-by data-point\n",
    "        Known as Margins or support vectors.\n",
    "        \n",
    " =>  Margins or support Vectors are supposed to draw in such a way that, they will passes through a most \n",
    "       near-by data point.\n",
    "    \n",
    " =>  Perpendicular distances of Margins from hyperplane is not necessary to be equal, these distances depends \n",
    "       upon the distances of most near-by data-poin from the Hyperplane. "
   ]
  },
  {
   "cell_type": "markdown",
   "metadata": {},
   "source": [
    "<img src='images/svm.jpg' width = 360px>"
   ]
  },
  {
   "cell_type": "markdown",
   "metadata": {},
   "source": [
    "## Mathematical concepts Behind the Support Vector Machines"
   ]
  },
  {
   "cell_type": "code",
   "execution_count": null,
   "metadata": {},
   "outputs": [],
   "source": [
    " =>  Let’s take the example of the following dataset and see how can we divide the data into appropriate groups.\n",
    "    \n",
    " =>  We can see that there are two groups of data. The question is how to divide these points into two groups. \n",
    "\n",
    " =>  It can be done using any of the three lines. Or, for that purpose, there can be an infinite number of \n",
    "       straight lines that can divide these points into two classes. Now, which line to choose?\n",
    "      SVM solves this problem using the maximum margin as shown in below diagram."
   ]
  },
  {
   "cell_type": "markdown",
   "metadata": {},
   "source": [
    "<img src='images/SVM_intution.png'  width=\"300\">\n",
    "<img src='images/SVM_hyperplane.png' width=\"400\">"
   ]
  },
  {
   "cell_type": "code",
   "execution_count": null,
   "metadata": {},
   "outputs": [],
   "source": [
    " \n",
    " =>  Black line in the middle is the optimum classifier. This line is drawn to maximise the distance of the \n",
    "       classifier line from the nearest points in the two classes. \n",
    "     It is also called a Hyperplane in terms of  SVM. \n",
    "\n",
    " =>  A Hyperplane is an 'n-1' dimensional plane which optimally divides the data of 'n' dimensions.\n",
    "     Here, as we have only a 2-D data, so the hyperplane can be represented using one dimension only. \n",
    "     Hence, the hyperplane is a line here.\n",
    "\n",
    " =>  The two points (highlighted with circles) which are on the yellow lines, they are called the Support Vectors.\n",
    "      As it is a 2-D figure, they are points. In a multi-dimensional space, they will be vectors, \n",
    "      and hence, the name Support Vector machine as the algorithm creates the optimum classification line by\n",
    "         maximising its distance from the two S   upport vectors.\n",
    "\n",
    " =>  When the data is not linearly separable,  then to create a Hyperplane to separate data into different groups, \n",
    "      the SVM algorithm needs to perform computations in a higher-dimensional space. \n",
    "     But the introduction of new dimensions makes the computations for the SVMs more intensive, which impacts \n",
    "         the algorithm performance. To rectify this, mathematicians came up with the approach of Kernel methods. \n",
    "\n",
    " =>  Kernel methods use kernel functions available in mathematics. \n",
    "     The unique feature of a kernel function is to compute in a higher-dimensional space without calculating the\n",
    "       new coordinates in that higher dimension. \n",
    "        \n",
    " =>  It implicitly uses predefined mathematical functions to do operations on the existing points which mimic the\n",
    "       computation in a higher-dimensional space without adding to the computation cost as they are not actually \n",
    "      calculating the coordinates in the higher dimension thereby avoiding the computation of calculating distances \n",
    "        from the newly computed points.  This is called the kernel trick."
   ]
  },
  {
   "cell_type": "markdown",
   "metadata": {},
   "source": [
    "<img src= \"images/SVM_3D_Hyperplane.png\" width=\"360\">                                                               "
   ]
  },
  {
   "cell_type": "code",
   "execution_count": null,
   "metadata": {},
   "outputs": [],
   "source": [
    " =>  In the left diagram above, we have a non-linear distribution of data as we can not classify a data using a \n",
    "      linear equation.\n",
    "        \n",
    " =>  To solve this problem, we can project the points in a 3-dimensional space and then derive a plane \n",
    "      which divides the data into two parts. In theory, that’s what a kernel function does without computing the \n",
    "       additional coordinates for the higher dimension.\n",
    "        \n",
    " =>  In converting a 2-d dataset into a 3-d dataset, we introduces the 3rd co-ordinate by using previous ones. "
   ]
  },
  {
   "cell_type": "markdown",
   "metadata": {},
   "source": [
    "<img src='images/3-d.jpg' width = 400 px>"
   ]
  },
  {
   "cell_type": "markdown",
   "metadata": {},
   "source": [
    "##  Python Implementation of SVM Classifier "
   ]
  },
  {
   "cell_type": "code",
   "execution_count": 2,
   "metadata": {},
   "outputs": [
    {
     "data": {
      "text/html": [
       "<div>\n",
       "<style scoped>\n",
       "    .dataframe tbody tr th:only-of-type {\n",
       "        vertical-align: middle;\n",
       "    }\n",
       "\n",
       "    .dataframe tbody tr th {\n",
       "        vertical-align: top;\n",
       "    }\n",
       "\n",
       "    .dataframe thead th {\n",
       "        text-align: right;\n",
       "    }\n",
       "</style>\n",
       "<table border=\"1\" class=\"dataframe\">\n",
       "  <thead>\n",
       "    <tr style=\"text-align: right;\">\n",
       "      <th></th>\n",
       "      <th>fixed acidity</th>\n",
       "      <th>volatile acidity</th>\n",
       "      <th>citric acid</th>\n",
       "      <th>residual sugar</th>\n",
       "      <th>chlorides</th>\n",
       "      <th>free sulfur dioxide</th>\n",
       "      <th>total sulfur dioxide</th>\n",
       "      <th>density</th>\n",
       "      <th>pH</th>\n",
       "      <th>sulphates</th>\n",
       "      <th>alcohol</th>\n",
       "      <th>quality</th>\n",
       "    </tr>\n",
       "  </thead>\n",
       "  <tbody>\n",
       "    <tr>\n",
       "      <th>0</th>\n",
       "      <td>7.4</td>\n",
       "      <td>0.70</td>\n",
       "      <td>0.00</td>\n",
       "      <td>1.9</td>\n",
       "      <td>0.076</td>\n",
       "      <td>11.0</td>\n",
       "      <td>34.0</td>\n",
       "      <td>0.9978</td>\n",
       "      <td>3.51</td>\n",
       "      <td>0.56</td>\n",
       "      <td>9.4</td>\n",
       "      <td>5</td>\n",
       "    </tr>\n",
       "    <tr>\n",
       "      <th>1</th>\n",
       "      <td>7.8</td>\n",
       "      <td>0.88</td>\n",
       "      <td>0.00</td>\n",
       "      <td>2.6</td>\n",
       "      <td>0.098</td>\n",
       "      <td>25.0</td>\n",
       "      <td>67.0</td>\n",
       "      <td>0.9968</td>\n",
       "      <td>3.20</td>\n",
       "      <td>0.68</td>\n",
       "      <td>9.8</td>\n",
       "      <td>5</td>\n",
       "    </tr>\n",
       "    <tr>\n",
       "      <th>2</th>\n",
       "      <td>7.8</td>\n",
       "      <td>0.76</td>\n",
       "      <td>0.04</td>\n",
       "      <td>2.3</td>\n",
       "      <td>0.092</td>\n",
       "      <td>15.0</td>\n",
       "      <td>54.0</td>\n",
       "      <td>0.9970</td>\n",
       "      <td>3.26</td>\n",
       "      <td>0.65</td>\n",
       "      <td>9.8</td>\n",
       "      <td>5</td>\n",
       "    </tr>\n",
       "    <tr>\n",
       "      <th>3</th>\n",
       "      <td>11.2</td>\n",
       "      <td>0.28</td>\n",
       "      <td>0.56</td>\n",
       "      <td>1.9</td>\n",
       "      <td>0.075</td>\n",
       "      <td>17.0</td>\n",
       "      <td>60.0</td>\n",
       "      <td>0.9980</td>\n",
       "      <td>3.16</td>\n",
       "      <td>0.58</td>\n",
       "      <td>9.8</td>\n",
       "      <td>6</td>\n",
       "    </tr>\n",
       "    <tr>\n",
       "      <th>4</th>\n",
       "      <td>7.4</td>\n",
       "      <td>0.70</td>\n",
       "      <td>0.00</td>\n",
       "      <td>1.9</td>\n",
       "      <td>0.076</td>\n",
       "      <td>11.0</td>\n",
       "      <td>34.0</td>\n",
       "      <td>0.9978</td>\n",
       "      <td>3.51</td>\n",
       "      <td>0.56</td>\n",
       "      <td>9.4</td>\n",
       "      <td>5</td>\n",
       "    </tr>\n",
       "  </tbody>\n",
       "</table>\n",
       "</div>"
      ],
      "text/plain": [
       "   fixed acidity  volatile acidity  citric acid  residual sugar  chlorides  \\\n",
       "0            7.4              0.70         0.00             1.9      0.076   \n",
       "1            7.8              0.88         0.00             2.6      0.098   \n",
       "2            7.8              0.76         0.04             2.3      0.092   \n",
       "3           11.2              0.28         0.56             1.9      0.075   \n",
       "4            7.4              0.70         0.00             1.9      0.076   \n",
       "\n",
       "   free sulfur dioxide  total sulfur dioxide  density    pH  sulphates  \\\n",
       "0                 11.0                  34.0   0.9978  3.51       0.56   \n",
       "1                 25.0                  67.0   0.9968  3.20       0.68   \n",
       "2                 15.0                  54.0   0.9970  3.26       0.65   \n",
       "3                 17.0                  60.0   0.9980  3.16       0.58   \n",
       "4                 11.0                  34.0   0.9978  3.51       0.56   \n",
       "\n",
       "   alcohol  quality  \n",
       "0      9.4        5  \n",
       "1      9.8        5  \n",
       "2      9.8        5  \n",
       "3      9.8        6  \n",
       "4      9.4        5  "
      ]
     },
     "execution_count": 2,
     "metadata": {},
     "output_type": "execute_result"
    }
   ],
   "source": [
    "#  Importing Required libraries\n",
    "import pandas as pd\n",
    "import matplotlib.pyplot as plt\n",
    "\n",
    "# Loading the dataset\n",
    "df = pd.read_csv('winequality-red.csv')\n",
    "df.head()"
   ]
  },
  {
   "cell_type": "code",
   "execution_count": 3,
   "metadata": {},
   "outputs": [
    {
     "data": {
      "text/html": [
       "<div>\n",
       "<style scoped>\n",
       "    .dataframe tbody tr th:only-of-type {\n",
       "        vertical-align: middle;\n",
       "    }\n",
       "\n",
       "    .dataframe tbody tr th {\n",
       "        vertical-align: top;\n",
       "    }\n",
       "\n",
       "    .dataframe thead th {\n",
       "        text-align: right;\n",
       "    }\n",
       "</style>\n",
       "<table border=\"1\" class=\"dataframe\">\n",
       "  <thead>\n",
       "    <tr style=\"text-align: right;\">\n",
       "      <th></th>\n",
       "      <th>fixed acidity</th>\n",
       "      <th>volatile acidity</th>\n",
       "      <th>citric acid</th>\n",
       "      <th>residual sugar</th>\n",
       "      <th>chlorides</th>\n",
       "      <th>free sulfur dioxide</th>\n",
       "      <th>total sulfur dioxide</th>\n",
       "      <th>density</th>\n",
       "      <th>pH</th>\n",
       "      <th>sulphates</th>\n",
       "      <th>alcohol</th>\n",
       "      <th>quality</th>\n",
       "    </tr>\n",
       "  </thead>\n",
       "  <tbody>\n",
       "    <tr>\n",
       "      <th>count</th>\n",
       "      <td>1599.000000</td>\n",
       "      <td>1599.000000</td>\n",
       "      <td>1599.000000</td>\n",
       "      <td>1599.000000</td>\n",
       "      <td>1599.000000</td>\n",
       "      <td>1599.000000</td>\n",
       "      <td>1599.000000</td>\n",
       "      <td>1599.000000</td>\n",
       "      <td>1599.000000</td>\n",
       "      <td>1599.000000</td>\n",
       "      <td>1599.000000</td>\n",
       "      <td>1599.000000</td>\n",
       "    </tr>\n",
       "    <tr>\n",
       "      <th>mean</th>\n",
       "      <td>8.319637</td>\n",
       "      <td>0.527821</td>\n",
       "      <td>0.270976</td>\n",
       "      <td>2.538806</td>\n",
       "      <td>0.087467</td>\n",
       "      <td>15.874922</td>\n",
       "      <td>46.467792</td>\n",
       "      <td>0.996747</td>\n",
       "      <td>3.311113</td>\n",
       "      <td>0.658149</td>\n",
       "      <td>10.422983</td>\n",
       "      <td>5.636023</td>\n",
       "    </tr>\n",
       "    <tr>\n",
       "      <th>std</th>\n",
       "      <td>1.741096</td>\n",
       "      <td>0.179060</td>\n",
       "      <td>0.194801</td>\n",
       "      <td>1.409928</td>\n",
       "      <td>0.047065</td>\n",
       "      <td>10.460157</td>\n",
       "      <td>32.895324</td>\n",
       "      <td>0.001887</td>\n",
       "      <td>0.154386</td>\n",
       "      <td>0.169507</td>\n",
       "      <td>1.065668</td>\n",
       "      <td>0.807569</td>\n",
       "    </tr>\n",
       "    <tr>\n",
       "      <th>min</th>\n",
       "      <td>4.600000</td>\n",
       "      <td>0.120000</td>\n",
       "      <td>0.000000</td>\n",
       "      <td>0.900000</td>\n",
       "      <td>0.012000</td>\n",
       "      <td>1.000000</td>\n",
       "      <td>6.000000</td>\n",
       "      <td>0.990070</td>\n",
       "      <td>2.740000</td>\n",
       "      <td>0.330000</td>\n",
       "      <td>8.400000</td>\n",
       "      <td>3.000000</td>\n",
       "    </tr>\n",
       "    <tr>\n",
       "      <th>25%</th>\n",
       "      <td>7.100000</td>\n",
       "      <td>0.390000</td>\n",
       "      <td>0.090000</td>\n",
       "      <td>1.900000</td>\n",
       "      <td>0.070000</td>\n",
       "      <td>7.000000</td>\n",
       "      <td>22.000000</td>\n",
       "      <td>0.995600</td>\n",
       "      <td>3.210000</td>\n",
       "      <td>0.550000</td>\n",
       "      <td>9.500000</td>\n",
       "      <td>5.000000</td>\n",
       "    </tr>\n",
       "    <tr>\n",
       "      <th>50%</th>\n",
       "      <td>7.900000</td>\n",
       "      <td>0.520000</td>\n",
       "      <td>0.260000</td>\n",
       "      <td>2.200000</td>\n",
       "      <td>0.079000</td>\n",
       "      <td>14.000000</td>\n",
       "      <td>38.000000</td>\n",
       "      <td>0.996750</td>\n",
       "      <td>3.310000</td>\n",
       "      <td>0.620000</td>\n",
       "      <td>10.200000</td>\n",
       "      <td>6.000000</td>\n",
       "    </tr>\n",
       "    <tr>\n",
       "      <th>75%</th>\n",
       "      <td>9.200000</td>\n",
       "      <td>0.640000</td>\n",
       "      <td>0.420000</td>\n",
       "      <td>2.600000</td>\n",
       "      <td>0.090000</td>\n",
       "      <td>21.000000</td>\n",
       "      <td>62.000000</td>\n",
       "      <td>0.997835</td>\n",
       "      <td>3.400000</td>\n",
       "      <td>0.730000</td>\n",
       "      <td>11.100000</td>\n",
       "      <td>6.000000</td>\n",
       "    </tr>\n",
       "    <tr>\n",
       "      <th>max</th>\n",
       "      <td>15.900000</td>\n",
       "      <td>1.580000</td>\n",
       "      <td>1.000000</td>\n",
       "      <td>15.500000</td>\n",
       "      <td>0.611000</td>\n",
       "      <td>72.000000</td>\n",
       "      <td>289.000000</td>\n",
       "      <td>1.003690</td>\n",
       "      <td>4.010000</td>\n",
       "      <td>2.000000</td>\n",
       "      <td>14.900000</td>\n",
       "      <td>8.000000</td>\n",
       "    </tr>\n",
       "  </tbody>\n",
       "</table>\n",
       "</div>"
      ],
      "text/plain": [
       "       fixed acidity  volatile acidity  citric acid  residual sugar  \\\n",
       "count    1599.000000       1599.000000  1599.000000     1599.000000   \n",
       "mean        8.319637          0.527821     0.270976        2.538806   \n",
       "std         1.741096          0.179060     0.194801        1.409928   \n",
       "min         4.600000          0.120000     0.000000        0.900000   \n",
       "25%         7.100000          0.390000     0.090000        1.900000   \n",
       "50%         7.900000          0.520000     0.260000        2.200000   \n",
       "75%         9.200000          0.640000     0.420000        2.600000   \n",
       "max        15.900000          1.580000     1.000000       15.500000   \n",
       "\n",
       "         chlorides  free sulfur dioxide  total sulfur dioxide      density  \\\n",
       "count  1599.000000          1599.000000           1599.000000  1599.000000   \n",
       "mean      0.087467            15.874922             46.467792     0.996747   \n",
       "std       0.047065            10.460157             32.895324     0.001887   \n",
       "min       0.012000             1.000000              6.000000     0.990070   \n",
       "25%       0.070000             7.000000             22.000000     0.995600   \n",
       "50%       0.079000            14.000000             38.000000     0.996750   \n",
       "75%       0.090000            21.000000             62.000000     0.997835   \n",
       "max       0.611000            72.000000            289.000000     1.003690   \n",
       "\n",
       "                pH    sulphates      alcohol      quality  \n",
       "count  1599.000000  1599.000000  1599.000000  1599.000000  \n",
       "mean      3.311113     0.658149    10.422983     5.636023  \n",
       "std       0.154386     0.169507     1.065668     0.807569  \n",
       "min       2.740000     0.330000     8.400000     3.000000  \n",
       "25%       3.210000     0.550000     9.500000     5.000000  \n",
       "50%       3.310000     0.620000    10.200000     6.000000  \n",
       "75%       3.400000     0.730000    11.100000     6.000000  \n",
       "max       4.010000     2.000000    14.900000     8.000000  "
      ]
     },
     "execution_count": 3,
     "metadata": {},
     "output_type": "execute_result"
    }
   ],
   "source": [
    "#  Getting the describe of dataset\n",
    "df.describe()"
   ]
  },
  {
   "cell_type": "code",
   "execution_count": 4,
   "metadata": {},
   "outputs": [
    {
     "data": {
      "text/plain": [
       "fixed acidity           0\n",
       "volatile acidity        0\n",
       "citric acid             0\n",
       "residual sugar          0\n",
       "chlorides               0\n",
       "free sulfur dioxide     0\n",
       "total sulfur dioxide    0\n",
       "density                 0\n",
       "pH                      0\n",
       "sulphates               0\n",
       "alcohol                 0\n",
       "quality                 0\n",
       "dtype: int64"
      ]
     },
     "execution_count": 4,
     "metadata": {},
     "output_type": "execute_result"
    }
   ],
   "source": [
    "#  Getting counts of Missing values Column-wise\n",
    "df.isna().sum()"
   ]
  },
  {
   "cell_type": "markdown",
   "metadata": {},
   "source": [
    "#### As the data consists of values which differ a lot in magnitude, they need to be brought to the same scale. It's done using the standard scalar."
   ]
  },
  {
   "cell_type": "code",
   "execution_count": 5,
   "metadata": {},
   "outputs": [
    {
     "data": {
      "text/plain": [
       "array([[-0.52835961,  0.96187667, -1.39147228, ...,  1.28864292,\n",
       "        -0.57920652, -0.96024611],\n",
       "       [-0.29854743,  1.96744245, -1.39147228, ..., -0.7199333 ,\n",
       "         0.1289504 , -0.58477711],\n",
       "       [-0.29854743,  1.29706527, -1.18607043, ..., -0.33117661,\n",
       "        -0.04808883, -0.58477711],\n",
       "       ...,\n",
       "       [-1.1603431 , -0.09955388, -0.72391627, ...,  0.70550789,\n",
       "         0.54204194,  0.54162988],\n",
       "       [-1.39015528,  0.65462046, -0.77526673, ...,  1.6773996 ,\n",
       "         0.30598963, -0.20930812],\n",
       "       [-1.33270223, -1.21684919,  1.02199944, ...,  0.51112954,\n",
       "         0.01092425,  0.54162988]])"
      ]
     },
     "execution_count": 5,
     "metadata": {},
     "output_type": "execute_result"
    }
   ],
   "source": [
    "#  Importing the Standardscaler from sklearn and making an object of it\n",
    "from sklearn.preprocessing import StandardScaler\n",
    "scaler= StandardScaler()\n",
    "\n",
    "# Applying the Scaling transformations to the dataset \n",
    "scaled_data = scaler.fit_transform(df.drop(labels = ['quality'], axis=1))\n",
    "scaled_data"
   ]
  },
  {
   "cell_type": "code",
   "execution_count": 9,
   "metadata": {},
   "outputs": [
    {
     "data": {
      "text/html": [
       "<div>\n",
       "<style scoped>\n",
       "    .dataframe tbody tr th:only-of-type {\n",
       "        vertical-align: middle;\n",
       "    }\n",
       "\n",
       "    .dataframe tbody tr th {\n",
       "        vertical-align: top;\n",
       "    }\n",
       "\n",
       "    .dataframe thead th {\n",
       "        text-align: right;\n",
       "    }\n",
       "</style>\n",
       "<table border=\"1\" class=\"dataframe\">\n",
       "  <thead>\n",
       "    <tr style=\"text-align: right;\">\n",
       "      <th></th>\n",
       "      <th>fixed acidity</th>\n",
       "      <th>volatile acidity</th>\n",
       "      <th>citric acid</th>\n",
       "      <th>residual sugar</th>\n",
       "      <th>chlorides</th>\n",
       "      <th>free sulfur dioxide</th>\n",
       "      <th>total sulfur dioxide</th>\n",
       "      <th>density</th>\n",
       "      <th>pH</th>\n",
       "      <th>sulphates</th>\n",
       "      <th>alcohol</th>\n",
       "    </tr>\n",
       "  </thead>\n",
       "  <tbody>\n",
       "    <tr>\n",
       "      <th>0</th>\n",
       "      <td>-0.528360</td>\n",
       "      <td>0.961877</td>\n",
       "      <td>-1.391472</td>\n",
       "      <td>-0.453218</td>\n",
       "      <td>-0.243707</td>\n",
       "      <td>-0.466193</td>\n",
       "      <td>-0.379133</td>\n",
       "      <td>0.558274</td>\n",
       "      <td>1.288643</td>\n",
       "      <td>-0.579207</td>\n",
       "      <td>-0.960246</td>\n",
       "    </tr>\n",
       "    <tr>\n",
       "      <th>1</th>\n",
       "      <td>-0.298547</td>\n",
       "      <td>1.967442</td>\n",
       "      <td>-1.391472</td>\n",
       "      <td>0.043416</td>\n",
       "      <td>0.223875</td>\n",
       "      <td>0.872638</td>\n",
       "      <td>0.624363</td>\n",
       "      <td>0.028261</td>\n",
       "      <td>-0.719933</td>\n",
       "      <td>0.128950</td>\n",
       "      <td>-0.584777</td>\n",
       "    </tr>\n",
       "    <tr>\n",
       "      <th>2</th>\n",
       "      <td>-0.298547</td>\n",
       "      <td>1.297065</td>\n",
       "      <td>-1.186070</td>\n",
       "      <td>-0.169427</td>\n",
       "      <td>0.096353</td>\n",
       "      <td>-0.083669</td>\n",
       "      <td>0.229047</td>\n",
       "      <td>0.134264</td>\n",
       "      <td>-0.331177</td>\n",
       "      <td>-0.048089</td>\n",
       "      <td>-0.584777</td>\n",
       "    </tr>\n",
       "    <tr>\n",
       "      <th>3</th>\n",
       "      <td>1.654856</td>\n",
       "      <td>-1.384443</td>\n",
       "      <td>1.484154</td>\n",
       "      <td>-0.453218</td>\n",
       "      <td>-0.264960</td>\n",
       "      <td>0.107592</td>\n",
       "      <td>0.411500</td>\n",
       "      <td>0.664277</td>\n",
       "      <td>-0.979104</td>\n",
       "      <td>-0.461180</td>\n",
       "      <td>-0.584777</td>\n",
       "    </tr>\n",
       "    <tr>\n",
       "      <th>4</th>\n",
       "      <td>-0.528360</td>\n",
       "      <td>0.961877</td>\n",
       "      <td>-1.391472</td>\n",
       "      <td>-0.453218</td>\n",
       "      <td>-0.243707</td>\n",
       "      <td>-0.466193</td>\n",
       "      <td>-0.379133</td>\n",
       "      <td>0.558274</td>\n",
       "      <td>1.288643</td>\n",
       "      <td>-0.579207</td>\n",
       "      <td>-0.960246</td>\n",
       "    </tr>\n",
       "  </tbody>\n",
       "</table>\n",
       "</div>"
      ],
      "text/plain": [
       "   fixed acidity  volatile acidity  citric acid  residual sugar  chlorides  \\\n",
       "0      -0.528360          0.961877    -1.391472       -0.453218  -0.243707   \n",
       "1      -0.298547          1.967442    -1.391472        0.043416   0.223875   \n",
       "2      -0.298547          1.297065    -1.186070       -0.169427   0.096353   \n",
       "3       1.654856         -1.384443     1.484154       -0.453218  -0.264960   \n",
       "4      -0.528360          0.961877    -1.391472       -0.453218  -0.243707   \n",
       "\n",
       "   free sulfur dioxide  total sulfur dioxide   density        pH  sulphates  \\\n",
       "0            -0.466193             -0.379133  0.558274  1.288643  -0.579207   \n",
       "1             0.872638              0.624363  0.028261 -0.719933   0.128950   \n",
       "2            -0.083669              0.229047  0.134264 -0.331177  -0.048089   \n",
       "3             0.107592              0.411500  0.664277 -0.979104  -0.461180   \n",
       "4            -0.466193             -0.379133  0.558274  1.288643  -0.579207   \n",
       "\n",
       "    alcohol  \n",
       "0 -0.960246  \n",
       "1 -0.584777  \n",
       "2 -0.584777  \n",
       "3 -0.584777  \n",
       "4 -0.960246  "
      ]
     },
     "execution_count": 9,
     "metadata": {},
     "output_type": "execute_result"
    }
   ],
   "source": [
    "#  Getting the column names of dataset\n",
    "df.columns\n",
    "\n",
    "# making a List of column names\n",
    "columns=['fixed acidity', 'volatile acidity', 'citric acid', 'residual sugar',\n",
    "       'chlorides', 'free sulfur dioxide', 'total sulfur dioxide', 'density',\n",
    "       'pH', 'sulphates', 'alcohol']\n",
    "\n",
    "# Making a new dataframe with scaled data\n",
    "scaled_df = pd.DataFrame(data = scaled_data, columns = columns)\n",
    "scaled_df.head()"
   ]
  },
  {
   "cell_type": "markdown",
   "metadata": {},
   "source": [
    "####  As there are no missing values, we don't need to do data imputation."
   ]
  },
  {
   "cell_type": "code",
   "execution_count": 10,
   "metadata": {},
   "outputs": [],
   "source": [
    "#  Splitting the Features and Labels\n",
    "x = scaled_df\n",
    "y = df['quality']"
   ]
  },
  {
   "cell_type": "code",
   "execution_count": 11,
   "metadata": {},
   "outputs": [],
   "source": [
    "#  Train - Test Split\n",
    "from  sklearn.model_selection import train_test_split\n",
    "train_x,test_x,train_y,test_y=train_test_split(x,y,test_size=0.33, random_state=42)"
   ]
  },
  {
   "cell_type": "code",
   "execution_count": 12,
   "metadata": {},
   "outputs": [
    {
     "data": {
      "text/plain": [
       "array([5, 5, 6, 5, 6, 5, 5, 5, 6, 6, 6, 5, 6, 5, 5, 7, 5, 6, 7, 5, 5, 5,\n",
       "       6, 6, 5, 5, 6, 5, 5, 6, 5, 5, 6, 5, 6, 5, 6, 6, 5, 6, 5, 5, 6, 5,\n",
       "       6, 6, 6, 6, 5, 6, 5, 5, 6, 7, 5, 5, 6, 5, 6, 5, 6, 6, 5, 5, 7, 5,\n",
       "       6, 5, 7, 5, 6, 5, 6, 6, 6, 5, 7, 5, 6, 7, 5, 7, 5, 5, 6, 6, 5, 6,\n",
       "       6, 5, 6, 5, 5, 6, 5, 6, 5, 6, 5, 5, 5, 5, 6, 6, 6, 6, 6, 5, 6, 5,\n",
       "       6, 5, 6, 5, 6, 6, 6, 5, 5, 6, 6, 6, 6, 5, 5, 5, 6, 6, 5, 6, 6, 5,\n",
       "       5, 6, 6, 5, 5, 5, 5, 6, 6, 6, 6, 5, 6, 5, 6, 5, 6, 5, 6, 6, 5, 6,\n",
       "       6, 6, 5, 6, 5, 6, 7, 6, 6, 5, 5, 6, 5, 5, 5, 5, 5, 5, 6, 5, 7, 6,\n",
       "       6, 5, 5, 5, 5, 7, 5, 7, 5, 6, 6, 6, 7, 5, 6, 6, 5, 6, 6, 5, 5, 5,\n",
       "       6, 6, 5, 5, 5, 5, 7, 6, 5, 5, 6, 6, 7, 5, 6, 6, 6, 6, 6, 5, 6, 5,\n",
       "       5, 6, 6, 6, 5, 5, 5, 7, 5, 5, 5, 5, 6, 6, 5, 6, 5, 6, 6, 5, 5, 5,\n",
       "       6, 6, 5, 6, 6, 5, 6, 5, 6, 5, 5, 5, 5, 5, 5, 6, 6, 6, 6, 6, 5, 7,\n",
       "       6, 7, 6, 5, 6, 6, 5, 6, 5, 5, 5, 5, 6, 6, 6, 5, 7, 5, 5, 5, 5, 6,\n",
       "       5, 6, 5, 6, 5, 7, 6, 5, 5, 6, 5, 6, 6, 7, 5, 5, 6, 5, 5, 5, 6, 6,\n",
       "       6, 7, 5, 5, 6, 5, 5, 6, 5, 5, 6, 5, 6, 5, 6, 5, 5, 5, 6, 5, 5, 6,\n",
       "       6, 7, 5, 5, 6, 6, 6, 6, 5, 5, 6, 7, 5, 5, 6, 5, 6, 5, 6, 6, 6, 6,\n",
       "       5, 5, 6, 6, 5, 5, 5, 5, 5, 5, 5, 6, 5, 6, 6, 5, 5, 5, 5, 5, 6, 6,\n",
       "       5, 6, 5, 6, 5, 5, 5, 6, 6, 5, 6, 6, 6, 5, 5, 6, 5, 5, 5, 6, 6, 6,\n",
       "       7, 6, 5, 6, 5, 5, 6, 5, 5, 6, 7, 6, 5, 5, 6, 7, 6, 6, 6, 6, 5, 7,\n",
       "       5, 6, 6, 5, 5, 5, 6, 6, 5, 5, 6, 5, 7, 5, 5, 5, 6, 5, 5, 5, 5, 6,\n",
       "       6, 6, 6, 5, 5, 5, 5, 6, 6, 5, 6, 6, 5, 5, 5, 6, 7, 6, 6, 5, 5, 5,\n",
       "       5, 5, 6, 5, 5, 5, 5, 6, 7, 6, 6, 6, 5, 6, 6, 6, 6, 5, 6, 6, 6, 6,\n",
       "       5, 6, 6, 6, 5, 5, 6, 6, 5, 5, 6, 5, 6, 5, 5, 5, 5, 5, 5, 5, 5, 5,\n",
       "       6, 6, 6, 6, 6, 6, 5, 5, 5, 7, 6, 6, 6, 5, 5, 5, 6, 6, 7, 7, 5, 5])"
      ]
     },
     "execution_count": 12,
     "metadata": {},
     "output_type": "execute_result"
    }
   ],
   "source": [
    "#  Import the Support vector Machine classifier from sklearn and then fitting to dataset\n",
    "from sklearn.svm import SVC\n",
    "model=SVC()\n",
    "model.fit(train_x,train_y)\n",
    "\n",
    "# Getting Predictions\n",
    "model.predict(test_x)"
   ]
  },
  {
   "cell_type": "code",
   "execution_count": 13,
   "metadata": {},
   "outputs": [
    {
     "data": {
      "text/plain": [
       "0.5984848484848485"
      ]
     },
     "execution_count": 13,
     "metadata": {},
     "output_type": "execute_result"
    }
   ],
   "source": [
    "#  Getting the Accuracy score of model\n",
    "from sklearn.metrics import accuracy_score\n",
    "accuracy_score(test_y,model.predict(test_x))"
   ]
  },
  {
   "cell_type": "markdown",
   "metadata": {},
   "source": [
    "###  Performing GridSearchCV approach for best parameters"
   ]
  },
  {
   "cell_type": "code",
   "execution_count": 29,
   "metadata": {},
   "outputs": [
    {
     "name": "stdout",
     "output_type": "stream",
     "text": [
      "Fitting 5 folds for each of 21 candidates, totalling 105 fits\n"
     ]
    },
    {
     "name": "stderr",
     "output_type": "stream",
     "text": [
      "[Parallel(n_jobs=-1)]: Using backend LokyBackend with 4 concurrent workers.\n",
      "[Parallel(n_jobs=-1)]: Done  40 tasks      | elapsed:    1.9s\n",
      "[Parallel(n_jobs=-1)]: Done  98 out of 105 | elapsed:    4.6s remaining:    0.3s\n",
      "[Parallel(n_jobs=-1)]: Done 105 out of 105 | elapsed:    4.8s finished\n"
     ]
    },
    {
     "data": {
      "text/plain": [
       "{'C': 15.1, 'gamma': 0.75}"
      ]
     },
     "execution_count": 29,
     "metadata": {},
     "output_type": "execute_result"
    }
   ],
   "source": [
    "# Importing GridSearchCv from sklearn\n",
    "from sklearn.model_selection import GridSearchCV\n",
    "\n",
    "#  giving parameters and performing GridsearchCV\n",
    "param_grid={'C':[15.1, 15.0, 15.01, 14.9, 14.8, 14.7, 14.6],'gamma':[0.8, 0.75, 0.74]}\n",
    "\n",
    "grid = GridSearchCV (SVC(), param_grid, verbose = 3, n_jobs = -1)\n",
    "grid.fit(train_x, train_y)\n",
    "\n",
    "#  Getting the best parameters\n",
    "grid.best_params_"
   ]
  },
  {
   "cell_type": "code",
   "execution_count": 30,
   "metadata": {},
   "outputs": [
    {
     "data": {
      "text/plain": [
       "0.6268939393939394"
      ]
     },
     "execution_count": 30,
     "metadata": {},
     "output_type": "execute_result"
    }
   ],
   "source": [
    "#  Training the model again with Best parameters\n",
    "model_new=SVC(C = 10, gamma = 1)\n",
    "model_new.fit(train_x,train_y)\n",
    "\n",
    "# Getting the acuracy\n",
    "accuracy_score(test_y,model_new.predict(test_x))"
   ]
  },
  {
   "cell_type": "markdown",
   "metadata": {},
   "source": [
    "## Support Vector Regression"
   ]
  },
  {
   "cell_type": "code",
   "execution_count": null,
   "metadata": {},
   "outputs": [],
   "source": [
    "        #################    ##########   introduction to SVM Regression    #########    ##################\n",
    "    \n",
    " =>   Let’s talk about Linear Regression. How to determine the best fit line? \n",
    "     The idea is to create a line which minimises the total residual error. The SVR approach is a bit different. \n",
    "        \n",
    " =>  Instead of trying to minimise the error, SVR focuses on keeping the error in a fixed range.\n",
    "      This approach can be explained using three lines. \n",
    "     \n",
    " =>  The first line is the best fit regressor line, and the other two lines are the bordering ones which denote\n",
    "        the range of error."
   ]
  },
  {
   "cell_type": "markdown",
   "metadata": {},
   "source": [
    "<img src=\"images/SVR.png\" width=\"360\">"
   ]
  },
  {
   "cell_type": "code",
   "execution_count": null,
   "metadata": {},
   "outputs": [],
   "source": [
    " =>  What does this mean? It means that we are going to consider the points inside this ± error boundary only for\n",
    "      preparing our model. \n",
    "        \n",
    " =>  In other words, the best fit line or Hyperplane will be the line which goes through the maximum number of\n",
    "       data points and the error boundaries are chosen to ensure maximum inclusion. \n",
    "        \n",
    " =>  This error term can be customized  using the '_epsilon_' parameter defined for the scikit-learn SVR \n",
    "       implementation.  "
   ]
  },
  {
   "cell_type": "markdown",
   "metadata": {},
   "source": [
    "##  Python Implementation of SVM Regressor"
   ]
  },
  {
   "cell_type": "code",
   "execution_count": 32,
   "metadata": {},
   "outputs": [
    {
     "data": {
      "text/html": [
       "<div>\n",
       "<style scoped>\n",
       "    .dataframe tbody tr th:only-of-type {\n",
       "        vertical-align: middle;\n",
       "    }\n",
       "\n",
       "    .dataframe tbody tr th {\n",
       "        vertical-align: top;\n",
       "    }\n",
       "\n",
       "    .dataframe thead th {\n",
       "        text-align: right;\n",
       "    }\n",
       "</style>\n",
       "<table border=\"1\" class=\"dataframe\">\n",
       "  <thead>\n",
       "    <tr style=\"text-align: right;\">\n",
       "      <th></th>\n",
       "      <th>Serial No.</th>\n",
       "      <th>GRE Score</th>\n",
       "      <th>TOEFL Score</th>\n",
       "      <th>University Rating</th>\n",
       "      <th>SOP</th>\n",
       "      <th>LOR</th>\n",
       "      <th>CGPA</th>\n",
       "      <th>Research</th>\n",
       "      <th>Chance of Admit</th>\n",
       "    </tr>\n",
       "  </thead>\n",
       "  <tbody>\n",
       "    <tr>\n",
       "      <th>0</th>\n",
       "      <td>1</td>\n",
       "      <td>337.0</td>\n",
       "      <td>118.0</td>\n",
       "      <td>4.0</td>\n",
       "      <td>4.5</td>\n",
       "      <td>4.5</td>\n",
       "      <td>9.65</td>\n",
       "      <td>1</td>\n",
       "      <td>0.92</td>\n",
       "    </tr>\n",
       "    <tr>\n",
       "      <th>1</th>\n",
       "      <td>2</td>\n",
       "      <td>324.0</td>\n",
       "      <td>107.0</td>\n",
       "      <td>4.0</td>\n",
       "      <td>4.0</td>\n",
       "      <td>4.5</td>\n",
       "      <td>8.87</td>\n",
       "      <td>1</td>\n",
       "      <td>0.76</td>\n",
       "    </tr>\n",
       "    <tr>\n",
       "      <th>2</th>\n",
       "      <td>3</td>\n",
       "      <td>NaN</td>\n",
       "      <td>104.0</td>\n",
       "      <td>3.0</td>\n",
       "      <td>3.0</td>\n",
       "      <td>3.5</td>\n",
       "      <td>8.00</td>\n",
       "      <td>1</td>\n",
       "      <td>0.72</td>\n",
       "    </tr>\n",
       "    <tr>\n",
       "      <th>3</th>\n",
       "      <td>4</td>\n",
       "      <td>322.0</td>\n",
       "      <td>110.0</td>\n",
       "      <td>3.0</td>\n",
       "      <td>3.5</td>\n",
       "      <td>2.5</td>\n",
       "      <td>8.67</td>\n",
       "      <td>1</td>\n",
       "      <td>0.80</td>\n",
       "    </tr>\n",
       "    <tr>\n",
       "      <th>4</th>\n",
       "      <td>5</td>\n",
       "      <td>314.0</td>\n",
       "      <td>103.0</td>\n",
       "      <td>2.0</td>\n",
       "      <td>2.0</td>\n",
       "      <td>3.0</td>\n",
       "      <td>8.21</td>\n",
       "      <td>0</td>\n",
       "      <td>0.65</td>\n",
       "    </tr>\n",
       "  </tbody>\n",
       "</table>\n",
       "</div>"
      ],
      "text/plain": [
       "   Serial No.  GRE Score  TOEFL Score  University Rating  SOP  LOR  CGPA  \\\n",
       "0           1      337.0        118.0                4.0  4.5  4.5  9.65   \n",
       "1           2      324.0        107.0                4.0  4.0  4.5  8.87   \n",
       "2           3        NaN        104.0                3.0  3.0  3.5  8.00   \n",
       "3           4      322.0        110.0                3.0  3.5  2.5  8.67   \n",
       "4           5      314.0        103.0                2.0  2.0  3.0  8.21   \n",
       "\n",
       "   Research  Chance of Admit  \n",
       "0         1             0.92  \n",
       "1         1             0.76  \n",
       "2         1             0.72  \n",
       "3         1             0.80  \n",
       "4         0             0.65  "
      ]
     },
     "execution_count": 32,
     "metadata": {},
     "output_type": "execute_result"
    }
   ],
   "source": [
    "# Importing the required libraries\n",
    "import pandas as pd\n",
    "import matplotlib.pyplot as plt\n",
    "%matplotlib inline\n",
    "\n",
    "#  Loading the dataset\n",
    "df= pd.read_csv('Admission_Prediction.csv')\n",
    "df.head()"
   ]
  },
  {
   "cell_type": "code",
   "execution_count": 33,
   "metadata": {},
   "outputs": [
    {
     "data": {
      "text/plain": [
       "Serial No.            0\n",
       "GRE Score            15\n",
       "TOEFL Score          10\n",
       "University Rating    15\n",
       "SOP                   0\n",
       "LOR                   0\n",
       "CGPA                  0\n",
       "Research              0\n",
       "Chance of Admit       0\n",
       "dtype: int64"
      ]
     },
     "execution_count": 33,
     "metadata": {},
     "output_type": "execute_result"
    }
   ],
   "source": [
    "#  Getting the count of Missing values columnwise\n",
    "df.isna().sum()"
   ]
  },
  {
   "cell_type": "markdown",
   "metadata": {},
   "source": [
    "###  As we can see, there are some column with missing values. we need to impute those missing values."
   ]
  },
  {
   "cell_type": "code",
   "execution_count": 34,
   "metadata": {},
   "outputs": [
    {
     "data": {
      "text/plain": [
       "Serial No.           0\n",
       "GRE Score            0\n",
       "TOEFL Score          0\n",
       "University Rating    0\n",
       "SOP                  0\n",
       "LOR                  0\n",
       "CGPA                 0\n",
       "Research             0\n",
       "Chance of Admit      0\n",
       "dtype: int64"
      ]
     },
     "execution_count": 34,
     "metadata": {},
     "output_type": "execute_result"
    }
   ],
   "source": [
    "#  Imputing the Missing values\n",
    "df['GRE Score'].fillna(df['GRE Score'].mean(), inplace = True)\n",
    "df['TOEFL Score'].fillna(df['TOEFL Score'].mean(), inplace = True)\n",
    "df['University Rating'].fillna(df['University Rating'].mode()[0], inplace=True)\n",
    "\n",
    "# Getting count of Missing values after the Imputation\n",
    "df.isna().sum()"
   ]
  },
  {
   "cell_type": "code",
   "execution_count": 35,
   "metadata": {},
   "outputs": [],
   "source": [
    "#  Splitting dataset into features and Labels\n",
    "x = df.drop(['Chance of Admit', 'Serial No.'], axis=1)\n",
    "y = df['Chance of Admit']\n",
    "\n",
    "#columns=x.columns"
   ]
  },
  {
   "cell_type": "code",
   "execution_count": 36,
   "metadata": {},
   "outputs": [],
   "source": [
    "#  Train Test split\n",
    "from sklearn.model_selection import train_test_split\n",
    "train_x,test_x,train_y,test_y=train_test_split(x,y,test_size=0.33, random_state=33)"
   ]
  },
  {
   "cell_type": "code",
   "execution_count": 38,
   "metadata": {},
   "outputs": [
    {
     "data": {
      "text/plain": [
       "0.7340987165302327"
      ]
     },
     "execution_count": 38,
     "metadata": {},
     "output_type": "execute_result"
    }
   ],
   "source": [
    "# Training of SVM Regressor Model\n",
    "from sklearn.svm import SVR\n",
    "svr = SVR(C = 10)\n",
    "svr.fit(train_x, train_y)\n",
    "\n",
    "#  Getting Accuracy score of the Regressor model\n",
    "from sklearn.metrics import r2_score\n",
    "score= r2_score(test_y,svr.predict(test_x))\n",
    "score"
   ]
  },
  {
   "cell_type": "code",
   "execution_count": 43,
   "metadata": {},
   "outputs": [
    {
     "name": "stdout",
     "output_type": "stream",
     "text": [
      "Fitting 5 folds for each of 21 candidates, totalling 105 fits\n",
      "[CV] C=70, gamma=0.002 ...............................................\n",
      "[CV] ................... C=70, gamma=0.002, score=0.747, total=   0.0s\n",
      "[CV] C=70, gamma=0.002 ...............................................\n",
      "[CV] ................... C=70, gamma=0.002, score=0.717, total=   0.0s\n",
      "[CV] C=70, gamma=0.002 ...............................................\n",
      "[CV] ................... C=70, gamma=0.002, score=0.747, total=   0.0s\n",
      "[CV] C=70, gamma=0.002 ...............................................\n",
      "[CV] ................... C=70, gamma=0.002, score=0.621, total=   0.0s\n",
      "[CV] C=70, gamma=0.002 ...............................................\n",
      "[CV] ................... C=70, gamma=0.002, score=0.681, total=   0.0s\n",
      "[CV] C=70, gamma=0.001 ...............................................\n",
      "[CV] ................... C=70, gamma=0.001, score=0.756, total=   0.0s\n",
      "[CV] C=70, gamma=0.001 ...............................................\n",
      "[CV] ................... C=70, gamma=0.001, score=0.733, total=   0.0s\n",
      "[CV] C=70, gamma=0.001 ...............................................\n",
      "[CV] ................... C=70, gamma=0.001, score=0.820, total=   0.0s\n",
      "[CV] C=70, gamma=0.001 ...............................................\n",
      "[CV] ................... C=70, gamma=0.001, score=0.602, total=   0.0s\n",
      "[CV] C=70, gamma=0.001 ...............................................\n",
      "[CV] ................... C=70, gamma=0.001, score=0.742, total=   0.0s\n",
      "[CV] C=70, gamma=0.003 ...............................................\n",
      "[CV] ................... C=70, gamma=0.003, score=0.736, total=   0.0s\n",
      "[CV] C=70, gamma=0.003 ...............................................\n",
      "[CV] ................... C=70, gamma=0.003, score=0.748, total=   0.0s\n",
      "[CV] C=70, gamma=0.003 ...............................................\n"
     ]
    },
    {
     "name": "stderr",
     "output_type": "stream",
     "text": [
      "[Parallel(n_jobs=1)]: Using backend SequentialBackend with 1 concurrent workers.\n",
      "[Parallel(n_jobs=1)]: Done   1 out of   1 | elapsed:    0.0s remaining:    0.0s\n",
      "[Parallel(n_jobs=1)]: Done   2 out of   2 | elapsed:    0.0s remaining:    0.0s\n"
     ]
    },
    {
     "name": "stdout",
     "output_type": "stream",
     "text": [
      "[CV] ................... C=70, gamma=0.003, score=0.702, total=   0.0s\n",
      "[CV] C=70, gamma=0.003 ...............................................\n",
      "[CV] ................... C=70, gamma=0.003, score=0.547, total=   0.0s\n",
      "[CV] C=70, gamma=0.003 ...............................................\n",
      "[CV] ................... C=70, gamma=0.003, score=0.578, total=   0.0s\n",
      "[CV] C=72, gamma=0.002 ...............................................\n",
      "[CV] ................... C=72, gamma=0.002, score=0.746, total=   0.0s\n",
      "[CV] C=72, gamma=0.002 ...............................................\n",
      "[CV] ................... C=72, gamma=0.002, score=0.718, total=   0.0s\n",
      "[CV] C=72, gamma=0.002 ...............................................\n",
      "[CV] ................... C=72, gamma=0.002, score=0.746, total=   0.0s\n",
      "[CV] C=72, gamma=0.002 ...............................................\n",
      "[CV] ................... C=72, gamma=0.002, score=0.620, total=   0.0s\n",
      "[CV] C=72, gamma=0.002 ...............................................\n",
      "[CV] ................... C=72, gamma=0.002, score=0.679, total=   0.0s\n",
      "[CV] C=72, gamma=0.001 ...............................................\n",
      "[CV] ................... C=72, gamma=0.001, score=0.756, total=   0.0s\n",
      "[CV] C=72, gamma=0.001 ...............................................\n",
      "[CV] ................... C=72, gamma=0.001, score=0.734, total=   0.0s\n",
      "[CV] C=72, gamma=0.001 ...............................................\n",
      "[CV] ................... C=72, gamma=0.001, score=0.819, total=   0.0s\n",
      "[CV] C=72, gamma=0.001 ...............................................\n",
      "[CV] ................... C=72, gamma=0.001, score=0.605, total=   0.0s\n",
      "[CV] C=72, gamma=0.001 ...............................................\n",
      "[CV] ................... C=72, gamma=0.001, score=0.741, total=   0.0s\n",
      "[CV] C=72, gamma=0.003 ...............................................\n",
      "[CV] ................... C=72, gamma=0.003, score=0.736, total=   0.0s\n",
      "[CV] C=72, gamma=0.003 ...............................................\n",
      "[CV] ................... C=72, gamma=0.003, score=0.749, total=   0.0s\n",
      "[CV] C=72, gamma=0.003 ...............................................\n",
      "[CV] ................... C=72, gamma=0.003, score=0.701, total=   0.0s\n",
      "[CV] C=72, gamma=0.003 ...............................................\n",
      "[CV] ................... C=72, gamma=0.003, score=0.545, total=   0.0s\n",
      "[CV] C=72, gamma=0.003 ...............................................\n",
      "[CV] ................... C=72, gamma=0.003, score=0.576, total=   0.0s\n",
      "[CV] C=72.5, gamma=0.002 .............................................\n",
      "[CV] ................. C=72.5, gamma=0.002, score=0.746, total=   0.0s\n",
      "[CV] C=72.5, gamma=0.002 .............................................\n",
      "[CV] ................. C=72.5, gamma=0.002, score=0.718, total=   0.0s\n",
      "[CV] C=72.5, gamma=0.002 .............................................\n",
      "[CV] ................. C=72.5, gamma=0.002, score=0.745, total=   0.0s\n",
      "[CV] C=72.5, gamma=0.002 .............................................\n",
      "[CV] ................. C=72.5, gamma=0.002, score=0.620, total=   0.0s\n",
      "[CV] C=72.5, gamma=0.002 .............................................\n",
      "[CV] ................. C=72.5, gamma=0.002, score=0.679, total=   0.0s\n",
      "[CV] C=72.5, gamma=0.001 .............................................\n",
      "[CV] ................. C=72.5, gamma=0.001, score=0.756, total=   0.0s\n",
      "[CV] C=72.5, gamma=0.001 .............................................\n",
      "[CV] ................. C=72.5, gamma=0.001, score=0.733, total=   0.0s\n",
      "[CV] C=72.5, gamma=0.001 .............................................\n",
      "[CV] ................. C=72.5, gamma=0.001, score=0.819, total=   0.0s\n",
      "[CV] C=72.5, gamma=0.001 .............................................\n",
      "[CV] ................. C=72.5, gamma=0.001, score=0.605, total=   0.0s\n",
      "[CV] C=72.5, gamma=0.001 .............................................\n",
      "[CV] ................. C=72.5, gamma=0.001, score=0.741, total=   0.0s\n",
      "[CV] C=72.5, gamma=0.003 .............................................\n",
      "[CV] ................. C=72.5, gamma=0.003, score=0.736, total=   0.0s\n",
      "[CV] C=72.5, gamma=0.003 .............................................\n",
      "[CV] ................. C=72.5, gamma=0.003, score=0.750, total=   0.0s\n",
      "[CV] C=72.5, gamma=0.003 .............................................\n",
      "[CV] ................. C=72.5, gamma=0.003, score=0.701, total=   0.0s\n",
      "[CV] C=72.5, gamma=0.003 .............................................\n",
      "[CV] ................. C=72.5, gamma=0.003, score=0.544, total=   0.0s\n",
      "[CV] C=72.5, gamma=0.003 .............................................\n",
      "[CV] ................. C=72.5, gamma=0.003, score=0.576, total=   0.0s\n",
      "[CV] C=72.8, gamma=0.002 .............................................\n",
      "[CV] ................. C=72.8, gamma=0.002, score=0.746, total=   0.0s\n",
      "[CV] C=72.8, gamma=0.002 .............................................\n",
      "[CV] ................. C=72.8, gamma=0.002, score=0.718, total=   0.0s\n",
      "[CV] C=72.8, gamma=0.002 .............................................\n",
      "[CV] ................. C=72.8, gamma=0.002, score=0.745, total=   0.0s\n",
      "[CV] C=72.8, gamma=0.002 .............................................\n",
      "[CV] ................. C=72.8, gamma=0.002, score=0.620, total=   0.0s\n",
      "[CV] C=72.8, gamma=0.002 .............................................\n",
      "[CV] ................. C=72.8, gamma=0.002, score=0.678, total=   0.0s\n",
      "[CV] C=72.8, gamma=0.001 .............................................\n",
      "[CV] ................. C=72.8, gamma=0.001, score=0.756, total=   0.0s\n",
      "[CV] C=72.8, gamma=0.001 .............................................\n",
      "[CV] ................. C=72.8, gamma=0.001, score=0.734, total=   0.0s\n",
      "[CV] C=72.8, gamma=0.001 .............................................\n",
      "[CV] ................. C=72.8, gamma=0.001, score=0.819, total=   0.0s\n",
      "[CV] C=72.8, gamma=0.001 .............................................\n",
      "[CV] ................. C=72.8, gamma=0.001, score=0.604, total=   0.0s\n",
      "[CV] C=72.8, gamma=0.001 .............................................\n",
      "[CV] ................. C=72.8, gamma=0.001, score=0.741, total=   0.0s\n",
      "[CV] C=72.8, gamma=0.003 .............................................\n",
      "[CV] ................. C=72.8, gamma=0.003, score=0.736, total=   0.0s\n",
      "[CV] C=72.8, gamma=0.003 .............................................\n",
      "[CV] ................. C=72.8, gamma=0.003, score=0.750, total=   0.0s\n",
      "[CV] C=72.8, gamma=0.003 .............................................\n",
      "[CV] ................. C=72.8, gamma=0.003, score=0.701, total=   0.0s\n",
      "[CV] C=72.8, gamma=0.003 .............................................\n",
      "[CV] ................. C=72.8, gamma=0.003, score=0.544, total=   0.0s\n",
      "[CV] C=72.8, gamma=0.003 .............................................\n",
      "[CV] ................. C=72.8, gamma=0.003, score=0.575, total=   0.0s\n",
      "[CV] C=73.0, gamma=0.002 .............................................\n",
      "[CV] ................. C=73.0, gamma=0.002, score=0.746, total=   0.0s\n",
      "[CV] C=73.0, gamma=0.002 .............................................\n",
      "[CV] ................. C=73.0, gamma=0.002, score=0.718, total=   0.0s\n",
      "[CV] C=73.0, gamma=0.002 .............................................\n",
      "[CV] ................. C=73.0, gamma=0.002, score=0.745, total=   0.0s\n",
      "[CV] C=73.0, gamma=0.002 .............................................\n",
      "[CV] ................. C=73.0, gamma=0.002, score=0.620, total=   0.0s\n",
      "[CV] C=73.0, gamma=0.002 .............................................\n",
      "[CV] ................. C=73.0, gamma=0.002, score=0.678, total=   0.0s\n",
      "[CV] C=73.0, gamma=0.001 .............................................\n",
      "[CV] ................. C=73.0, gamma=0.001, score=0.756, total=   0.0s\n",
      "[CV] C=73.0, gamma=0.001 .............................................\n",
      "[CV] ................. C=73.0, gamma=0.001, score=0.734, total=   0.0s\n",
      "[CV] C=73.0, gamma=0.001 .............................................\n",
      "[CV] ................. C=73.0, gamma=0.001, score=0.818, total=   0.0s\n",
      "[CV] C=73.0, gamma=0.001 .............................................\n",
      "[CV] ................. C=73.0, gamma=0.001, score=0.606, total=   0.0s\n",
      "[CV] C=73.0, gamma=0.001 .............................................\n",
      "[CV] ................. C=73.0, gamma=0.001, score=0.740, total=   0.0s\n",
      "[CV] C=73.0, gamma=0.003 .............................................\n",
      "[CV] ................. C=73.0, gamma=0.003, score=0.736, total=   0.0s\n",
      "[CV] C=73.0, gamma=0.003 .............................................\n",
      "[CV] ................. C=73.0, gamma=0.003, score=0.750, total=   0.0s\n",
      "[CV] C=73.0, gamma=0.003 .............................................\n",
      "[CV] ................. C=73.0, gamma=0.003, score=0.702, total=   0.0s\n",
      "[CV] C=73.0, gamma=0.003 .............................................\n",
      "[CV] ................. C=73.0, gamma=0.003, score=0.543, total=   0.0s\n",
      "[CV] C=73.0, gamma=0.003 .............................................\n",
      "[CV] ................. C=73.0, gamma=0.003, score=0.575, total=   0.0s\n",
      "[CV] C=74.5, gamma=0.002 .............................................\n",
      "[CV] ................. C=74.5, gamma=0.002, score=0.746, total=   0.0s\n",
      "[CV] C=74.5, gamma=0.002 .............................................\n",
      "[CV] ................. C=74.5, gamma=0.002, score=0.718, total=   0.0s\n",
      "[CV] C=74.5, gamma=0.002 .............................................\n",
      "[CV] ................. C=74.5, gamma=0.002, score=0.744, total=   0.0s\n",
      "[CV] C=74.5, gamma=0.002 .............................................\n",
      "[CV] ................. C=74.5, gamma=0.002, score=0.619, total=   0.0s\n",
      "[CV] C=74.5, gamma=0.002 .............................................\n"
     ]
    },
    {
     "name": "stdout",
     "output_type": "stream",
     "text": [
      "[CV] ................. C=74.5, gamma=0.002, score=0.677, total=   0.0s\n",
      "[CV] C=74.5, gamma=0.001 .............................................\n",
      "[CV] ................. C=74.5, gamma=0.001, score=0.756, total=   0.0s\n",
      "[CV] C=74.5, gamma=0.001 .............................................\n",
      "[CV] ................. C=74.5, gamma=0.001, score=0.733, total=   0.0s\n",
      "[CV] C=74.5, gamma=0.001 .............................................\n",
      "[CV] ................. C=74.5, gamma=0.001, score=0.818, total=   0.0s\n",
      "[CV] C=74.5, gamma=0.001 .............................................\n",
      "[CV] ................. C=74.5, gamma=0.001, score=0.606, total=   0.0s\n",
      "[CV] C=74.5, gamma=0.001 .............................................\n",
      "[CV] ................. C=74.5, gamma=0.001, score=0.739, total=   0.0s\n",
      "[CV] C=74.5, gamma=0.003 .............................................\n",
      "[CV] ................. C=74.5, gamma=0.003, score=0.735, total=   0.0s\n",
      "[CV] C=74.5, gamma=0.003 .............................................\n",
      "[CV] ................. C=74.5, gamma=0.003, score=0.751, total=   0.0s\n",
      "[CV] C=74.5, gamma=0.003 .............................................\n",
      "[CV] ................. C=74.5, gamma=0.003, score=0.701, total=   0.0s\n",
      "[CV] C=74.5, gamma=0.003 .............................................\n",
      "[CV] ................. C=74.5, gamma=0.003, score=0.542, total=   0.0s\n",
      "[CV] C=74.5, gamma=0.003 .............................................\n",
      "[CV] ................. C=74.5, gamma=0.003, score=0.574, total=   0.0s\n",
      "[CV] C=75, gamma=0.002 ...............................................\n",
      "[CV] ................... C=75, gamma=0.002, score=0.746, total=   0.0s\n",
      "[CV] C=75, gamma=0.002 ...............................................\n",
      "[CV] ................... C=75, gamma=0.002, score=0.718, total=   0.0s\n",
      "[CV] C=75, gamma=0.002 ...............................................\n",
      "[CV] ................... C=75, gamma=0.002, score=0.743, total=   0.0s\n",
      "[CV] C=75, gamma=0.002 ...............................................\n",
      "[CV] ................... C=75, gamma=0.002, score=0.619, total=   0.0s\n",
      "[CV] C=75, gamma=0.002 ...............................................\n",
      "[CV] ................... C=75, gamma=0.002, score=0.676, total=   0.0s\n",
      "[CV] C=75, gamma=0.001 ...............................................\n",
      "[CV] ................... C=75, gamma=0.001, score=0.756, total=   0.0s\n",
      "[CV] C=75, gamma=0.001 ...............................................\n",
      "[CV] ................... C=75, gamma=0.001, score=0.733, total=   0.0s\n",
      "[CV] C=75, gamma=0.001 ...............................................\n",
      "[CV] ................... C=75, gamma=0.001, score=0.817, total=   0.0s\n",
      "[CV] C=75, gamma=0.001 ...............................................\n",
      "[CV] ................... C=75, gamma=0.001, score=0.606, total=   0.0s\n",
      "[CV] C=75, gamma=0.001 ...............................................\n",
      "[CV] ................... C=75, gamma=0.001, score=0.739, total=   0.0s\n",
      "[CV] C=75, gamma=0.003 ...............................................\n",
      "[CV] ................... C=75, gamma=0.003, score=0.735, total=   0.0s\n",
      "[CV] C=75, gamma=0.003 ...............................................\n",
      "[CV] ................... C=75, gamma=0.003, score=0.751, total=   0.0s\n",
      "[CV] C=75, gamma=0.003 ...............................................\n",
      "[CV] ................... C=75, gamma=0.003, score=0.700, total=   0.0s\n",
      "[CV] C=75, gamma=0.003 ...............................................\n",
      "[CV] ................... C=75, gamma=0.003, score=0.541, total=   0.0s\n",
      "[CV] C=75, gamma=0.003 ...............................................\n",
      "[CV] ................... C=75, gamma=0.003, score=0.574, total=   0.0s\n"
     ]
    },
    {
     "name": "stderr",
     "output_type": "stream",
     "text": [
      "[Parallel(n_jobs=1)]: Done 105 out of 105 | elapsed:    1.7s finished\n"
     ]
    },
    {
     "data": {
      "text/plain": [
       "SVR(C=72, gamma=0.001)"
      ]
     },
     "execution_count": 43,
     "metadata": {},
     "output_type": "execute_result"
    }
   ],
   "source": [
    "#  Performing GridSearchCV\n",
    "from sklearn.model_selection import GridSearchCV\n",
    "param_grid = {'C':[70, 72, 72.5, 72.8, 73.0, 74.5, 75], 'gamma': [0.002, 0.001, 0.003]}\n",
    "grid = GridSearchCV(SVR(), param_grid, verbose = 3)\n",
    "\n",
    "#  Fitting the GridSearchCV\n",
    "grid.fit(train_x,train_y)\n",
    "\n",
    "#  Getting the best Parameters\n",
    "grid.best_estimator_"
   ]
  },
  {
   "cell_type": "code",
   "execution_count": 45,
   "metadata": {},
   "outputs": [
    {
     "data": {
      "text/plain": [
       "SVR(C=72, gamma=0.001)"
      ]
     },
     "execution_count": 45,
     "metadata": {},
     "output_type": "execute_result"
    }
   ],
   "source": [
    "#  Model training again with best PARAMETERS\n",
    "svr_new = SVR(C = 72, cache_size = 200, coef0 = 0.0, degree = 3, epsilon = 0.1, gamma = 0.001, kernel = 'rbf',\n",
    "              max_iter = -1, shrinking = True, tol = 0.001, verbose = False)\n",
    "\n",
    "# Fitting the model\n",
    "svr_new.fit(train_x, train_y)"
   ]
  },
  {
   "cell_type": "code",
   "execution_count": 46,
   "metadata": {},
   "outputs": [
    {
     "data": {
      "text/plain": [
       "0.7416620298895252"
      ]
     },
     "execution_count": 46,
     "metadata": {},
     "output_type": "execute_result"
    }
   ],
   "source": [
    "#  Getting the Final accuracy\n",
    "score_new= r2_score(test_y,svr_new.predict(test_x))\n",
    "score_new"
   ]
  },
  {
   "cell_type": "code",
   "execution_count": 48,
   "metadata": {},
   "outputs": [],
   "source": [
    "# Saving the trained Model\n",
    "\"\"\"from joblib import dump, load\n",
    "filename = 'test1.joblib'\n",
    "dump(svr_new, filename) \"\"\"\n",
    "\n",
    "import pickle\n",
    "filename = 'finalized_model.pickle'\n",
    "pickle.dump(svr_new, open(filename, 'wb'))"
   ]
  },
  {
   "cell_type": "markdown",
   "metadata": {},
   "source": [
    "#### Now this saved model file will be used for prediction. We'll create a Flask app for the same and deploy it to AWS."
   ]
  },
  {
   "cell_type": "code",
   "execution_count": 49,
   "metadata": {
    "scrolled": true
   },
   "outputs": [
    {
     "name": "stdout",
     "output_type": "stream",
     "text": [
      "0.9278346214078643\n"
     ]
    }
   ],
   "source": [
    "# Getting predictions through the Saved model\n",
    "loaded_model = pickle.load(open(filename, 'rb'))\n",
    "prediction = loaded_model.predict(([[320,120,5,5,5,10,1]]))\n",
    "print(prediction[0])"
   ]
  },
  {
   "cell_type": "markdown",
   "metadata": {},
   "source": [
    "# Flask App\n",
    "As we’ll expose the created model as a web API to be consumed by the client/client APIs, we’d do it using the flask framework. \n",
    "The flow of our flask app will be:\n",
    "\n",
    "<img src=\"images/FlaskApp.PNG\" width=\"540\">\n",
    "•\tCreate the project structure, as shown below:\n",
    "<img src=\"images/ProjectStruct.PNG\" width=\"360\">\n"
   ]
  },
  {
   "cell_type": "raw",
   "metadata": {},
   "source": [
    "* Index.html\n",
    "\n",
    "{% extends 'base.html' %}\n",
    "\n",
    "{% block head %}\n",
    "\n",
    "<title>Search Page</title>\n",
    "<link rel=\"stylesheet\" href=\"{{ url_for('static', filename='css/style.css') }}\">\n",
    "{% endblock %}\n",
    "\n",
    "{% block body %}\n",
    "<div class=\"content\">\n",
    "    <h1 style=\"text-align: center\">Predict Your chances for Admission</h1>\n",
    "\n",
    "    <div class=\"form\">\n",
    "        <form action=\"/predict\" method=\"POST\">\n",
    "            <input type=\"number\" name=\"gre_score\" id=\"gre_score\" placeholder=\"GRE Score\">\n",
    "            <input type=\"number\" name=\"toefl_score\" id=\"toefl_score\" placeholder=\"TOEFL Score\">\n",
    "            <input type=\"number\" name=\"university_rating\" id=\"university_rating\" placeholder=\"University Rating\">\n",
    "            <input type=\"number\" name=\"sop\" id=\"sop\" placeholder=\"SOP Score\">\n",
    "            <input type=\"number\" name=\"lor\" id=\"lor\" placeholder=\"LOR Score\">\n",
    "            <input type=\"number\" name=\"cgpa\" id=\"cgpa\"placeholder=\"CGPA\" step=\"any\">\n",
    "            <select name=\"research\" id=\"research\">\n",
    "  <option value=\"yes\">Yes</option>\n",
    "  <option value=\"no\">No</option>\n",
    "</select>\n",
    "            <input type=\"submit\" value=\"Predict\">\n",
    "        </form>\n",
    "    </div>\n",
    "</div>\n",
    "{% endblock %}\n"
   ]
  },
  {
   "cell_type": "raw",
   "metadata": {},
   "source": [
    "* application.py\n",
    "\n",
    "# importing the necessary dependencies\n",
    "from flask import Flask, render_template, request,jsonify\n",
    "from flask_cors import CORS,cross_origin\n",
    "import pickle\n",
    "\n",
    "app = Flask(__name__) # initializing a flask app\n",
    "\n",
    "@app.route('/',methods=['GET'])  # route to display the home page\n",
    "@cross_origin()\n",
    "def homePage():\n",
    "    return render_template(\"index.html\")\n",
    "\n",
    "@app.route('/predict',methods=['POST','GET']) # route to show the predictions in a web UI\n",
    "@cross_origin()\n",
    "def index():\n",
    "    if request.method == 'POST':\n",
    "        try:\n",
    "            #  reading the inputs given by the user\n",
    "            gre_score=float(request.form['gre_score'])\n",
    "            toefl_score = float(request.form['toefl_score'])\n",
    "            university_rating = float(request.form['university_rating'])\n",
    "            sop = float(request.form['sop'])\n",
    "            lor = float(request.form['lor'])\n",
    "            cgpa = float(request.form['cgpa'])\n",
    "            is_research = request.form['research']\n",
    "            if(is_research=='yes'):\n",
    "                research=1\n",
    "            else:\n",
    "                research=0\n",
    "            filename = 'finalized_model.pickle'\n",
    "            loaded_model = pickle.load(open(filename, 'rb')) # loading the model file from the storage\n",
    "            # predictions using the loaded model file\n",
    "            prediction=loaded_model.predict([[gre_score,toefl_score,university_rating,sop,lor,cgpa,research]])\n",
    "            print('prediction is', prediction)\n",
    "            # showing the prediction results in a UI\n",
    "            return render_template('results.html',prediction=round(100*prediction[0]))\n",
    "        except Exception as e:\n",
    "            print('The Exception message is: ',e)\n",
    "            return 'something is wrong.'\n",
    "    # return render_template('results.html')\n",
    "    else:\n",
    "        return render_template('index.html')\n",
    "\n",
    "\n",
    "\n",
    "if __name__ == \"__main__\":\n",
    "    #app.run(host='127.0.0.1', port=8001, debug=True)\n",
    "   app.run(debug=True) # running the app\n"
   ]
  },
  {
   "cell_type": "raw",
   "metadata": {},
   "source": [
    "* results.html\n",
    "\n",
    "•\t<!DOCTYPE html>\n",
    "<html lang=\"en\" >\n",
    "\n",
    "<head>\n",
    "  <meta charset=\"UTF-8\">\n",
    "  <title>Review Page</title>\n",
    "\n",
    "    <link rel=\"stylesheet\" href=\"https://cdnjs.cloudflare.com/ajax/libs/normalize/5.0.0/normalize.min.css\">\n",
    "\n",
    "\n",
    "      <link rel=\"stylesheet\" href=\"./style.css\">\n",
    "    <link rel=\"stylesheet\" href=\"{{ url_for('static', filename='css/style.css') }}\">\n",
    "\n",
    "\n",
    "</head>\n",
    "\n",
    "<body>\n",
    "\n",
    "  <div class=\"table-users\">\n",
    "   <div class=\"header\">Prediction</div>\n",
    "\n",
    "      <p>Your chance for admission is {{prediction}} percent</p>\n",
    "</div>\n",
    "\n",
    "\n",
    "\n",
    "</body>\n",
    "\n",
    "</html>"
   ]
  },
  {
   "cell_type": "raw",
   "metadata": {},
   "source": [
    "* python.config\n",
    "\n",
    "option_settings:\n",
    "  \"aws:elasticbeanstalk:container:python\":\n",
    "    WSGIPath: application.py\n"
   ]
  },
  {
   "cell_type": "markdown",
   "metadata": {},
   "source": [
    "## Deployment to AWS:\n",
    "•\tThe python application file should be named application.py\n",
    "•\tCreate a requirements.txt using pip freeze > requirements.txt from the project folder\n",
    "•\tCreate a folder ‘.ebextensions’ and create a file ‘python.config’ inside it. Make sure to populate the content of python.config, as shown above.\n",
    "•\tCreate the zip file from the project folder itself.\n",
    "<img src=\"images/zipCreation.PNG\">\n"
   ]
  },
  {
   "cell_type": "markdown",
   "metadata": {},
   "source": [
    "#### Deployment Process\n",
    "•\tGo to https://aws.amazon.com/ and create an account if already don’t have one.\n",
    "•\tGo to the console and go to the ‘Build a web app’ section and click it.\n",
    "<img src=\"images/webApp.PNG\" width = 480px>\n",
    "\n",
    "•\tGive the name of the application, give platform as python, and select the option to upload your code from ZIP.\n",
    "<img src='images/createAPP.PNG' width = 1080px>\n"
   ]
  },
  {
   "cell_type": "markdown",
   "metadata": {},
   "source": [
    "### Final Result:\n",
    "\n",
    "<img src=\"images/finalResult.PNG\">"
   ]
  }
 ],
 "metadata": {
  "kernelspec": {
   "display_name": "Python 3",
   "language": "python",
   "name": "python3"
  },
  "language_info": {
   "codemirror_mode": {
    "name": "ipython",
    "version": 3
   },
   "file_extension": ".py",
   "mimetype": "text/x-python",
   "name": "python",
   "nbconvert_exporter": "python",
   "pygments_lexer": "ipython3",
   "version": "3.8.3"
  }
 },
 "nbformat": 4,
 "nbformat_minor": 2
}
